{
 "cells": [
  {
   "cell_type": "markdown",
   "metadata": {},
   "source": [
    "# Lesson 2: Functions\n",
    "Functions in Python allow us to create reusable blocks of code that we can use over and over again. They are a great way to create reusable code blocks that perform specific operations that we can use in our programs.\n",
    "\n",
    "Functions take in inputs, perform some sort of operation on those inputs, and then return an output. We can then use that output as an input for another function, or we can store it in a variable to use later."
   ]
  },
  {
   "cell_type": "code",
   "execution_count": null,
   "metadata": {},
   "outputs": [],
   "source": [
    "# The following function takes in a radius and returns the circumference of a circle\n",
    "def find_circumference(radius):\n",
    "    return 2 * 3.14159 * radius\n",
    "\n",
    "# Call the function with a radius of 5 and store the result in a variable\n",
    "circumference_of_5 = find_circumference(5)\n",
    "\n",
    "print(circumference_of_5)"
   ]
  },
  {
   "cell_type": "markdown",
   "metadata": {},
   "source": [
    "### §2.1 Defining, Declaring, and Calling Functions\n",
    "`def` is the keyword we use to define a function. We then give the function a name, and then we put the parameters (inputs) for the function in parentheses. We then put a colon at the end of the function definition, and then we indent the code that we want to be part of the function."
   ]
  },
  {
   "cell_type": "code",
   "execution_count": null,
   "metadata": {},
   "outputs": [],
   "source": [
    "# The declaration for a function that calculates the perimeter of a rectangle\n",
    "def find_perimeter(length, width): # length and width are TWO parameters\n",
    "    return 2 * length + 2 * width # we return what we want the function to output\n",
    "\n",
    "# Call the function with a length of 5 and a width of 10\n",
    "perimeter_of_rectangle = find_perimeter(5, 10) # 5 and 10 are TWO arguments\n",
    "print(perimeter_of_rectangle)\n",
    "\n",
    "print(find_perimeter(10, 20)) # 10 and 20 are TWO arguments\n",
    "print(find_perimeter(2, 2)) # 2 and 2 are TWO arguments\n",
    "print(find_perimeter(100)) # !! 100 is ONE argument, but we need TWO arguments"
   ]
  },
  {
   "cell_type": "markdown",
   "metadata": {},
   "source": [
    "### § 2.1 - Exercise A - Area of a Triangle\n",
    "Write a function that takes in the base and height of a triangle and returns the area of the triangle."
   ]
  },
  {
   "cell_type": "code",
   "execution_count": null,
   "metadata": {},
   "outputs": [],
   "source": []
  },
  {
   "cell_type": "markdown",
   "metadata": {},
   "source": [
    "### § 2.1 - Exercise B - Sum of Squares\n",
    "Write a function that takes in two numbers and returns the sum of their squares."
   ]
  },
  {
   "cell_type": "code",
   "execution_count": null,
   "metadata": {},
   "outputs": [],
   "source": []
  },
  {
   "cell_type": "markdown",
   "metadata": {},
   "source": [
    "## § 2.2 Built-in Functions\n",
    "Python has quite a few built-in functions that can be helful for your own programs. Let's take a look at a few of them."
   ]
  },
  {
   "cell_type": "markdown",
   "metadata": {},
   "source": [
    "### § 2.2.1 `print()`\n",
    "This one we've seen many times already but didn't know it was a function this whole time. `print()` takes in a string and prints it to the console."
   ]
  },
  {
   "cell_type": "code",
   "execution_count": null,
   "metadata": {},
   "outputs": [],
   "source": [
    "# Print \"Hello World\"\n",
    "print(\"Hello World\")"
   ]
  },
  {
   "cell_type": "markdown",
   "metadata": {},
   "source": [
    "### § 2.2.2 `len()`\n",
    "`len()` takes in a string and returns the length of the string."
   ]
  },
  {
   "cell_type": "code",
   "execution_count": null,
   "metadata": {},
   "outputs": [],
   "source": [
    "# Print the length of the string \"mouse\"\n",
    "print(len(\"mouse\"))\n",
    "\n",
    "# Print the length of \"Estrada-Muñoz\"\n",
    "print(len(\"Estrada-Muñoz\"))\n",
    "\n",
    "# Print the length of \"Ky'mora\"\n",
    "print(len(\"Ky'mora\"))"
   ]
  },
  {
   "cell_type": "markdown",
   "metadata": {},
   "source": [
    "### § 2.2.3 `str()`\n",
    "`str()` takes in a number and returns the string representation of that number."
   ]
  },
  {
   "cell_type": "code",
   "execution_count": null,
   "metadata": {},
   "outputs": [],
   "source": [
    "# Return the string representation of 10\n",
    "\n",
    "str_rep = str(10)\n",
    "\n",
    "# Attempt to add integer 10 to the string representation of 10\n",
    "print(str_rep + 10) "
   ]
  },
  {
   "cell_type": "markdown",
   "metadata": {},
   "source": [
    "### § 2.2.4 `int()` and `float()`\n",
    "`int()` takes in a string and returns the integer representation of that string. `float()` takes in a string and returns the float representation of that string. They can also take in numbers and return the integer or float representation of that number."
   ]
  },
  {
   "cell_type": "code",
   "execution_count": null,
   "metadata": {},
   "outputs": [],
   "source": [
    "# Return the integer representation of \"10\"\n",
    "int_rep = int(\"10\")\n",
    "\n",
    "# Add 10 to the integer representation of \"10\"\n",
    "print(int_rep + 10)"
   ]
  },
  {
   "cell_type": "code",
   "execution_count": null,
   "metadata": {},
   "outputs": [],
   "source": [
    "# Convert integer 10 to a float\n",
    "float_rep = float(10)\n",
    "print(float_rep)\n",
    "\n",
    "# Convert the float 3.14159 to an integer\n",
    "pi_int = int(3.14159)\n",
    "print(pi_int)\n",
    "\n",
    "# Note the value of pi_int? What happened to the decimal part of 3.14159? Does this look familiar?"
   ]
  },
  {
   "cell_type": "markdown",
   "metadata": {},
   "source": [
    "### § 2.2.5 `input()`\n",
    "`input()` is a game changer. It allows us to get user input from the keyboard and save it to our program."
   ]
  },
  {
   "cell_type": "code",
   "execution_count": null,
   "metadata": {},
   "outputs": [],
   "source": [
    "# Write a program that asks the user for their name and age and prints out this information.\n",
    "\n",
    "# Ask the user for their name\n",
    "name = input(\"What is your name? \") # Note the space after the question mark\n",
    "\n",
    "# Ask the user for their age\n",
    "age = input(\"What is your age? \")\n",
    "\n",
    "# Print out the user's name and age\n",
    "print(name)\n",
    "print(age)"
   ]
  },
  {
   "cell_type": "markdown",
   "metadata": {},
   "source": [
    "### § 2.2 - Exercise A - Are You Old Enough to Vote?\n",
    "Write a program that asks the user for their age and then tells them if they are old enough to vote."
   ]
  },
  {
   "cell_type": "code",
   "execution_count": null,
   "metadata": {},
   "outputs": [],
   "source": []
  },
  {
   "cell_type": "markdown",
   "metadata": {},
   "source": [
    "### § 2.2 - Exercise B - Even or Odd, User Input Edition\n",
    "Write a program that asks the user for a number and then tells them if that number is even or odd."
   ]
  },
  {
   "cell_type": "code",
   "execution_count": null,
   "metadata": {},
   "outputs": [],
   "source": []
  },
  {
   "cell_type": "markdown",
   "metadata": {},
   "source": [
    "### § 2.2.6 Default Parameters\n",
    "We can set default parameters for our functions. This means that if we don't pass in a value for a parameter, it will use the default value instead."
   ]
  },
  {
   "cell_type": "code",
   "execution_count": null,
   "metadata": {},
   "outputs": [],
   "source": [
    "# Define a function that takes in a radius and returns the circumference of a circle\n",
    "def find_circumference(radius):\n",
    "    return 2 * 3.14159 * radius\n",
    "\n",
    "# Call the function with a radius of 5 and store the result in a variable\n",
    "circumference_of_5 = find_circumference(5)\n",
    "\n",
    "print(circumference_of_5)"
   ]
  },
  {
   "cell_type": "code",
   "execution_count": null,
   "metadata": {},
   "outputs": [],
   "source": [
    "# What happens if we forget to pass in an argument?\n",
    "print(find_circumference()) # !! This will cause an error"
   ]
  },
  {
   "cell_type": "code",
   "execution_count": null,
   "metadata": {},
   "outputs": [],
   "source": [
    "# Let's define a default value for the radius parameter; we'll choose 1\n",
    "def find_circumference(radius=1):\n",
    "    return 2 * 3.14159 * radius\n",
    "\n",
    "# Now, if we forget to pass in an argument, the function will use the default value\n",
    "print(find_circumference())\n",
    "\n",
    "# We can still pass in an argument if we want to\n",
    "print(find_circumference(5))"
   ]
  },
  {
   "cell_type": "markdown",
   "metadata": {},
   "source": [
    "## § 2.3 Scope\n",
    "Scope refers to the visibility of variables. Variables that are defined inside of a function are only visible inside of that function. Variables that are defined outside of a function are visible everywhere."
   ]
  },
  {
   "cell_type": "code",
   "execution_count": null,
   "metadata": {},
   "outputs": [],
   "source": [
    "# Define a function that determines if a person is old enough to vote\n",
    "\n",
    "voting_age = 18 # Voting age is defined outside of the function, with the greatest scope\n",
    "\n",
    "def can_vote(age):\n",
    "    if age >= voting_age: \n",
    "        return True\n",
    "    else:\n",
    "        return False\n",
    "\n",
    "print(can_vote(17))\n",
    "print(voting_age)"
   ]
  },
  {
   "cell_type": "code",
   "execution_count": null,
   "metadata": {},
   "outputs": [],
   "source": [
    "# Define a function that determines if a person is old enough to vote\n",
    "\n",
    "def can_vote(age):\n",
    "    age_to_vote = 18 # Voting age is defined inside the function, with a smaller scope\n",
    "    if age >= age_to_vote: \n",
    "        return True\n",
    "    else:\n",
    "        return False\n",
    "\n",
    "print(can_vote(17))\n",
    "print(age_to_vote) # Because we defined age_to_vote inside the function, we can't access it outside of the function"
   ]
  },
  {
   "cell_type": "markdown",
   "metadata": {},
   "source": [
    "Be careful with twin variables (variables with the same name). If you have a variable with the same name inside and outside of a function, the variable inside the function will be used if it is called inside the function."
   ]
  },
  {
   "cell_type": "code",
   "execution_count": null,
   "metadata": {},
   "outputs": [],
   "source": [
    "# Define a function that determines if a number is above a *predefined* threshold\n",
    "\n",
    "threshold = 10 # threshold is defined outside of the function, with the greatest scope\n",
    "\n",
    "def is_above_threshold(number):\n",
    "    threshold = 5 # threshold is defined inside the function, with a smaller scope\n",
    "    if number > threshold: \n",
    "        return True\n",
    "    else:\n",
    "        return False\n",
    "    \n",
    "print(is_above_threshold(4)) # The threshold with the scope most local to the function is given priority"
   ]
  },
  {
   "cell_type": "markdown",
   "metadata": {},
   "source": [
    "## § 2.4 - Exception Handling — `try` and `except`\n",
    "Dealing with user input means that the user can type in anything they want. This means that they can type in something that will cause our program to crash. We can use exception handling to prevent our program from crashing in certain instances."
   ]
  },
  {
   "cell_type": "code",
   "execution_count": null,
   "metadata": {},
   "outputs": [],
   "source": [
    "# Request two numbers from the user and divide the first number by the second number\n",
    "\n",
    "# Ask the user for the first number\n",
    "first_number = input(\"Enter the first number: \")\n",
    "\n",
    "# Ask the user for the second number\n",
    "second_number = input(\"Enter the second number: \")\n",
    "\n",
    "# Convert the numbers from strings to integers\n",
    "first_number = int(first_number)\n",
    "second_number = int(second_number)\n",
    "\n",
    "# Divide the first number by the second number\n",
    "print(first_number / second_number) # What happens if the second number is 0?"
   ]
  },
  {
   "cell_type": "markdown",
   "metadata": {},
   "source": [
    "We use `try` and `except` to handle exceptions. We put the code that we want to try in the `try` block, and then we put the code that we want to run if there is an exception in the `except` block. Let's see our previous example with exception handling."
   ]
  },
  {
   "cell_type": "code",
   "execution_count": null,
   "metadata": {},
   "outputs": [],
   "source": [
    "# Request two numbers from the user and divide the first number by the second number\n",
    "\n",
    "try:\n",
    "  # Ask the user for the first number\n",
    "  first_number = input(\"Enter the first number: \")\n",
    "\n",
    "  # Ask the user for the second number\n",
    "  second_number = input(\"Enter the second number: \")\n",
    "\n",
    "  # Convert the numbers from strings to integers\n",
    "  first_number = int(first_number)\n",
    "  second_number = int(second_number)\n",
    "\n",
    "  # Divide the first number by the second number\n",
    "  print(first_number / second_number) # Try to replicate the error again!\n",
    "\n",
    "except ZeroDivisionError:\n",
    "  print(\"You cannot divide by zero!\")"
   ]
  },
  {
   "cell_type": "markdown",
   "metadata": {},
   "source": [
    "### § 2.4 - Exercise A - Are You Old Enough to Vote? (with Exception Handling)\n",
    "Write a program that asks the user for their age and then tells them if they are old enough to vote. Use exception handling to make sure that the user enters a number. *Hint: You can have multiple errors listed in the `except` block.*"
   ]
  },
  {
   "cell_type": "code",
   "execution_count": null,
   "metadata": {},
   "outputs": [],
   "source": []
  },
  {
   "cell_type": "markdown",
   "metadata": {},
   "source": [
    "### § 2.4 - Exercise B - Lola's Gradebook, LEVEL 2 - (Function, User Input, Exception Handling)\n",
    "Lola is trying to get the letter grade for each student in the class. She has numerical grades for each student but needs to convert them to letter grades. The letter grades are as follows:\n",
    "- 90-100: A\n",
    "- 80-89: B\n",
    "- 70-79: C\n",
    "- 60-69: D\n",
    "- 0-59: F\n",
    "- Anything other number: Invalid\n",
    "\n",
    "**Write a function that takes in a numerical grade and returns the letter grade. Use exception handling to make sure that the user enters a number. Feel free to use your code from last lesson.**"
   ]
  },
  {
   "cell_type": "code",
   "execution_count": null,
   "metadata": {},
   "outputs": [],
   "source": []
  }
 ],
 "metadata": {
  "kernelspec": {
   "display_name": "Python 3",
   "language": "python",
   "name": "python3"
  },
  "language_info": {
   "codemirror_mode": {
    "name": "ipython",
    "version": 3
   },
   "file_extension": ".py",
   "mimetype": "text/x-python",
   "name": "python",
   "nbconvert_exporter": "python",
   "pygments_lexer": "ipython3",
   "version": "3.11.4"
  },
  "orig_nbformat": 4
 },
 "nbformat": 4,
 "nbformat_minor": 2
}
