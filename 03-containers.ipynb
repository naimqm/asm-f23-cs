{
 "cells": [
  {
   "cell_type": "markdown",
   "metadata": {},
   "source": [
    "# Lesson 3 - Containers & Methods\n",
    "This lesson introduces the concept of containers and how they are used in Python. Containers are objects that can hold multiple objects at the same time. Examples can include a list of items, or a dictionary of definitions."
   ]
  },
  {
   "cell_type": "markdown",
   "metadata": {},
   "source": [
    "## §3.1 - Starting Off with Lists\n",
    "Lists are a type of container that can hold multiple objects at the same time. Lists are defined using square brackets `[]` and can be assigned to a variable. Lists can hold any type of object, including other lists."
   ]
  },
  {
   "cell_type": "code",
   "execution_count": null,
   "metadata": {},
   "outputs": [],
   "source": [
    "list_of_fruit = [\"Apple\", \"Orange\", \"Pear\", \"Banana\", \"Peach\"]\n",
    "\n",
    "print(list_of_fruit)\n"
   ]
  },
  {
   "cell_type": "markdown",
   "metadata": {},
   "source": [
    "Let's start with an empty list. To create an empty list you can use either the `list()` function or the `[]` syntax."
   ]
  },
  {
   "cell_type": "code",
   "execution_count": null,
   "metadata": {},
   "outputs": [],
   "source": [
    "empty_list = []\n",
    "print(empty_list)\n",
    "\n",
    "another_empty_list = list()\n",
    "print(another_empty_list)\n"
   ]
  },
  {
   "cell_type": "markdown",
   "metadata": {},
   "source": [
    "### §3.1.1 - `append()`\n",
    "You can use the `append()` method to add an object to the end of a list. This method takes one argument, the object to be added to the list. Methods are called using the dot operator `.` and are similar to functions, but are called on an object."
   ]
  },
  {
   "cell_type": "code",
   "execution_count": null,
   "metadata": {},
   "outputs": [],
   "source": [
    "list_of_fruit = [\"Apple\", \"Orange\", \"Pear\", \"Banana\", \"Peach\"]\n",
    "\n",
    "list_of_fruit.append(\"Grapes\")\n",
    "\n",
    "print(list_of_fruit)\n"
   ]
  },
  {
   "cell_type": "markdown",
   "metadata": {},
   "source": [
    "Lists can store any types of varaibles, not just strings!"
   ]
  },
  {
   "cell_type": "code",
   "execution_count": null,
   "metadata": {},
   "outputs": [],
   "source": [
    "list_of_things = []\n",
    "list_of_things.append(\"Apple\")\n",
    "list_of_things.append(2)\n",
    "list_of_things.append(3.14)\n",
    "list_of_things.append\n",
    "\n",
    "print(list_of_things)\n"
   ]
  },
  {
   "cell_type": "markdown",
   "metadata": {},
   "source": [
    "### §3.1.2 - List Indexing\n",
    "Every item or element in a list has an index, which is the position of the item in the list. The first item in a list has an index of 0, the second item has an index of 1, and so on. You can access an item in a list by using the index of the item in square brackets `[]`."
   ]
  },
  {
   "cell_type": "code",
   "execution_count": null,
   "metadata": {},
   "outputs": [],
   "source": [
    "list_of_fruit = [\"Apple\", \"Orange\", \"Pear\", \"Banana\", \"Peach\"]\n",
    "\n",
    "# Store the first element in a variable\n",
    "first_element = list_of_fruit[0]\n",
    "\n",
    "# Print the first element\n",
    "print(first_element)\n"
   ]
  },
  {
   "cell_type": "code",
   "execution_count": null,
   "metadata": {},
   "outputs": [],
   "source": [
    "list_of_fruit = [\"Apple\", \"Orange\", \"Pear\", \"Banana\", \"Peach\"]\n",
    "\n",
    "# Print the second and third elements\n",
    "print(list_of_fruit[1])\n",
    "print(list_of_fruit[2])\n"
   ]
  },
  {
   "cell_type": "markdown",
   "metadata": {},
   "source": [
    "You can also use negative indexing to access items from the end of the list. The last item in a list has an index of -1, the second to last item has an index of -2, and so on. This notation comes from the len() function."
   ]
  },
  {
   "cell_type": "code",
   "execution_count": null,
   "metadata": {},
   "outputs": [],
   "source": [
    "list_of_fruit = [\"Apple\", \"Orange\", \"Pear\", \"Banana\", \"Peach\"]\n",
    "\n",
    "# Print the last element using negative indexing\n",
    "print(list_of_fruit[-1])\n",
    "\n",
    "# Print the last element using len()\n",
    "print(list_of_fruit[len(list_of_fruit) - 1])\n",
    "\n",
    "# Print the last element using positive indexing\n",
    "print(list_of_fruit[4])\n"
   ]
  },
  {
   "cell_type": "markdown",
   "metadata": {},
   "source": [
    "For a range of indexes, you can use the `:` operator. The first number is the starting index, and the second number is the ending index. The ending index is not included in the range. We will focus more on ranges, in general, for Lesson 5."
   ]
  },
  {
   "cell_type": "code",
   "execution_count": null,
   "metadata": {},
   "outputs": [],
   "source": [
    "list_of_fruit = [\"Apple\", \"Orange\", \"Pear\", \"Banana\", \"Peach\"]\n",
    "\n",
    "# Print just the second and third elements\n",
    "print(list_of_fruit[1:3])\n",
    "\n",
    "# Print the first three elements\n",
    "print(list_of_fruit[:3])\n",
    "\n",
    "# Print the last two elements\n",
    "print(list_of_fruit[-2:])\n"
   ]
  },
  {
   "cell_type": "markdown",
   "metadata": {},
   "source": [
    "If we try to reference an index that doesn't exist, we will get an error. This is called an `IndexError`."
   ]
  },
  {
   "cell_type": "code",
   "execution_count": null,
   "metadata": {},
   "outputs": [],
   "source": [
    "list_of_fruit = [\"Apple\", \"Orange\", \"Pear\", \"Banana\", \"Peach\"]\n",
    "\n",
    "# Try to print a non-existent sixth element\n",
    "print(list_of_fruit[5])\n"
   ]
  },
  {
   "cell_type": "markdown",
   "metadata": {},
   "source": [
    "### §3.1.3 - More List Methods, Functions, and Things to Know\n",
    "To test if an item is in a list, you can use the `in` operator. This will return a boolean value of `True` or `False`."
   ]
  },
  {
   "cell_type": "code",
   "execution_count": null,
   "metadata": {},
   "outputs": [],
   "source": [
    "list_of_fruit = [\"Apple\", \"Orange\", \"Pear\", \"Banana\", \"Peach\"]\n",
    "\n",
    "# Print if \"Apple\" is in the list\n",
    "print(\"Apple\" in list_of_fruit)\n",
    "\n",
    "# Print if \"Grape\" is in the list\n",
    "print(\"Grape\" in list_of_fruit)\n"
   ]
  },
  {
   "cell_type": "markdown",
   "metadata": {},
   "source": [
    "Insert an item into a list at a specific index using the `insert()` method. This method takes two arguments, the index to insert the item at, and the item to insert."
   ]
  },
  {
   "cell_type": "code",
   "execution_count": null,
   "metadata": {},
   "outputs": [],
   "source": [
    "list_of_fruit = [\"Apple\", \"Orange\", \"Pear\", \"Banana\", \"Peach\"]\n",
    "print(list_of_fruit)\n",
    "\n",
    "# Insert \"Grape\" at index 1\n",
    "list_of_fruit.insert(1, \"Grape\")\n",
    "\n",
    "print(list_of_fruit)\n"
   ]
  },
  {
   "cell_type": "markdown",
   "metadata": {},
   "source": [
    "To completely replace an item in a list, you just assign the new value to the index of the item you want to replace."
   ]
  },
  {
   "cell_type": "code",
   "execution_count": null,
   "metadata": {},
   "outputs": [],
   "source": [
    "list_of_fruit = [\"Apple\", \"Orange\", \"Pear\", \"Banana\", \"Peach\"]\n",
    "print(list_of_fruit)\n",
    "\n",
    "# Replace \"Apple\" with \"Grape\"\n",
    "list_of_fruit[0] = \"Grape\"\n",
    "print(list_of_fruit) \n"
   ]
  },
  {
   "cell_type": "markdown",
   "metadata": {},
   "source": [
    "Use `len()` to get the length of a list. This is the number of items in the list."
   ]
  },
  {
   "cell_type": "code",
   "execution_count": null,
   "metadata": {},
   "outputs": [],
   "source": [
    "list_of_fruit = [\"Apple\", \"Orange\", \"Pear\", \"Banana\", \"Peach\"]\n",
    "\n",
    "# Print the length of the list\n",
    "print(len(list_of_fruit))\n"
   ]
  },
  {
   "cell_type": "markdown",
   "metadata": {},
   "source": [
    "`clear()` is a method that removes all items from a list."
   ]
  },
  {
   "cell_type": "code",
   "execution_count": null,
   "metadata": {},
   "outputs": [],
   "source": [
    "list_of_fruit = [\"Apple\", \"Orange\", \"Pear\", \"Banana\", \"Peach\"]\n",
    "print(list_of_fruit)\n",
    "\n",
    "# Remove all elements from the list\n",
    "list_of_fruit.clear()\n",
    "\n",
    "print(list_of_fruit)\n"
   ]
  },
  {
   "cell_type": "markdown",
   "metadata": {},
   "source": [
    "`copy()` is a method that returns a copy of a list."
   ]
  },
  {
   "cell_type": "code",
   "execution_count": null,
   "metadata": {},
   "outputs": [],
   "source": [
    "list_of_fruit = [\"Apple\", \"Orange\", \"Pear\", \"Banana\", \"Peach\"]\n",
    "print(list_of_fruit)\n",
    "\n",
    "# Store a copy of the list\n",
    "new_list = list_of_fruit.copy()\n",
    "print(new_list)\n"
   ]
  },
  {
   "cell_type": "markdown",
   "metadata": {},
   "source": [
    "Concatenation is the process of combining two lists (or anything else, we'll get to later) together. You can use the `+` operator to concatenate two lists together."
   ]
  },
  {
   "cell_type": "code",
   "execution_count": null,
   "metadata": {},
   "outputs": [],
   "source": [
    "list_of_fruit = [\"Apple\", \"Orange\", \"Pear\", \"Banana\", \"Peach\"]\n",
    "list_of_veggies = [\"Carrot\", \"Broccoli\", \"Spinach\", \"Kale\", \"Lettuce\"]\n",
    "\n",
    "# Concatenate the two lists\n",
    "list_of_food = list_of_fruit + list_of_veggies\n",
    "\n",
    "print(list_of_food)\n"
   ]
  },
  {
   "cell_type": "markdown",
   "metadata": {},
   "source": [
    "You can also use the `extend()` method to add elements of a list to the end of another list. This method takes one argument, the list to add to the end of the list."
   ]
  },
  {
   "cell_type": "code",
   "execution_count": null,
   "metadata": {},
   "outputs": [],
   "source": [
    "list_of_toys = [\"Car\", \"Truck\", \"Doll\", \"Puzzle\", \"Ball\"]\n",
    "print(list_of_toys)\n",
    "\n",
    "list_of_stuffed_animals = [\"Teddy Bear\", \"Monkey\", \"Lion\", \"Penguin\", \"Dog\"]\n",
    "\n",
    "# Add the second list to the first list\n",
    "list_of_toys.extend(list_of_stuffed_animals)\n",
    "print(list_of_toys)\n"
   ]
  },
  {
   "cell_type": "markdown",
   "metadata": {},
   "source": [
    "`index()` returns the index of the first item in a list that matches the argument. This method takes one argument, the item to find the index of."
   ]
  },
  {
   "cell_type": "code",
   "execution_count": null,
   "metadata": {},
   "outputs": [],
   "source": [
    "list_of_classes = [\"Math\", \"Science\", \"English\", \"History\", \"Art\", \"Science\"]\n",
    "\n",
    "# Print the index of \"English\"\n",
    "print(list_of_classes.index(\"English\"))\n",
    "\n",
    "# Print the index of the first \"Science\"\n",
    "print(list_of_classes.index(\"Science\"))\n"
   ]
  },
  {
   "cell_type": "markdown",
   "metadata": {},
   "source": [
    "`pop()` removes an element of the list based on its index. It takes one argument, the index of the item to remove. If no index is given, the last item is removed. "
   ]
  },
  {
   "cell_type": "code",
   "execution_count": null,
   "metadata": {},
   "outputs": [],
   "source": [
    "list_of_fruits = [\"Apple\", \"Orange\", \"Pear\", \"Banana\", \"Peach\"]\n",
    "print(list_of_fruits)\n",
    "\n",
    "# Pop the first element\n",
    "list_of_fruits.pop(0)\n",
    "print(list_of_fruits)\n",
    "\n",
    "# Pop the last element\n",
    "list_of_fruits.pop()\n",
    "print(list_of_fruits)\n"
   ]
  },
  {
   "cell_type": "markdown",
   "metadata": {},
   "source": [
    "`remove()` removes the first item in a list that matches the argument. This method takes one argument, the item to remove."
   ]
  },
  {
   "cell_type": "code",
   "execution_count": null,
   "metadata": {},
   "outputs": [],
   "source": [
    "list_of_classes = [\"Math\", \"Science\", \"English\", \"History\", \"Art\", \"Science\"]\n",
    "print(list_of_classes)\n",
    "\n",
    "# Remove the first \"Science\"\n",
    "list_of_classes.remove(\"Science\")\n",
    "print(list_of_classes)\n"
   ]
  },
  {
   "cell_type": "markdown",
   "metadata": {},
   "source": [
    "`reverse()` reverses the order of the items in a list."
   ]
  },
  {
   "cell_type": "code",
   "execution_count": null,
   "metadata": {},
   "outputs": [],
   "source": [
    "list_of_stuffed_animals = [\"Teddy Bear\", \"Monkey\", \"Lion\", \"Penguin\", \"Dog\"]\n",
    "print(list_of_stuffed_animals)\n",
    "\n",
    "# Reverse the list\n",
    "list_of_stuffed_animals.reverse()\n",
    "print(list_of_stuffed_animals)\n"
   ]
  },
  {
   "cell_type": "markdown",
   "metadata": {},
   "source": [
    "`sort()` sorts the items in a list. This method takes two **OPTIONAL** arguments, `reverse` and `key`. `reverse` is a boolean value that determines if the list should be sorted in reverse order. `key` is a function that is used to determine the order of the items in the list that we can use as criteria. We will revisit `key` later in the lesson."
   ]
  },
  {
   "cell_type": "code",
   "execution_count": null,
   "metadata": {},
   "outputs": [],
   "source": [
    "list_of_numbers = [23, 4, 1, 49, 32]\n",
    "print(list_of_numbers)\n",
    "\n",
    "# Sort the list in order\n",
    "list_of_numbers.sort()\n",
    "print(list_of_numbers)\n",
    "\n",
    "# Sort the list in reverse order\n",
    "list_of_numbers.sort(reverse=True)\n",
    "print(list_of_numbers)\n"
   ]
  },
  {
   "cell_type": "code",
   "execution_count": null,
   "metadata": {},
   "outputs": [],
   "source": [
    "list_of_numbers = [23, 4, 1, 49, 32]\n",
    "print(list_of_numbers)\n",
    "\n",
    "# Sort the list in reverse order using reverse() and sort()\n",
    "list_of_numbers.sort()\n",
    "list_of_numbers.reverse()\n",
    "\n",
    "print(list_of_numbers)\n"
   ]
  },
  {
   "cell_type": "markdown",
   "metadata": {},
   "source": [
    "### §3.1 - Exercise A - Guessing Game\n",
    "You're given a random list of numbers. Write a program that asks the user to guess a number in the list. If the user guesses correctly, print \"You guessed correctly!\". If the user guesses incorrectly, print \"You guessed incorrectly!\".\n",
    "\n",
    "Additionally if the user guesses correctly, print the index of the number in the list."
   ]
  },
  {
   "cell_type": "code",
   "execution_count": null,
   "metadata": {},
   "outputs": [],
   "source": [
    "# Initial list of 10 numbers, randomly generated.\n",
    "random = __import__(\"random\") # Import the random module\n",
    "list_of_numbers = [random.randint(0, 100) for i in range(10)] # Generate 10 random numbers\n",
    "print(list_of_numbers)\n",
    "\n"
   ]
  },
  {
   "cell_type": "markdown",
   "metadata": {},
   "source": [
    "## § 3.2 - Tuples\n",
    "Tuples are another type of container that can hold multiple objects at the same time. Tuples are defined using parentheses `()` and can be assigned to a variable. Tuples can hold any type of object, including other tuples. \n",
    "\n",
    "NOTE: Tuples are **immutable**, meaning they cannot be changed after they are created."
   ]
  },
  {
   "cell_type": "code",
   "execution_count": null,
   "metadata": {},
   "outputs": [],
   "source": [
    "tuple_of_prime_numbers = (2, 3, 5, 7, 11, 13, 17, 19, 23, 29)\n",
    "print(tuple_of_prime_numbers)\n",
    "\n",
    "# Attempt to change the 3rd element of the tuple\n",
    "tuple_of_prime_numbers[2] = 4\n"
   ]
  },
  {
   "cell_type": "markdown",
   "metadata": {},
   "source": [
    "Again, you have two options for creating an empty tuple, either using the `tuple()` function or the `()` syntax."
   ]
  },
  {
   "cell_type": "code",
   "execution_count": null,
   "metadata": {},
   "outputs": [],
   "source": [
    "# Create an empty tuple using just parentheses\n",
    "empty_tuple = ()\n",
    "print(empty_tuple)\n",
    "\n",
    "# Create an empty tuple using the tuple() function\n",
    "another_empty_tuple = tuple()\n",
    "print(another_empty_tuple)\n"
   ]
  },
  {
   "cell_type": "markdown",
   "metadata": {},
   "source": [
    "**Is the empty tuple that useful to us? Why or why not?**"
   ]
  },
  {
   "cell_type": "markdown",
   "metadata": {},
   "source": [
    "To have items in your tuple, you must define those items when you create it. They are best used for things you know you won't change and things you don't want to change."
   ]
  },
  {
   "cell_type": "code",
   "execution_count": null,
   "metadata": {},
   "outputs": [],
   "source": [
    "# Create a tuple with the longitude and latitude of New York City\n",
    "new_york_city = (40.7128, 74.0060)\n"
   ]
  },
  {
   "cell_type": "markdown",
   "metadata": {},
   "source": [
    "You can still access items in a tuple using indexing, just like with lists."
   ]
  },
  {
   "cell_type": "code",
   "execution_count": null,
   "metadata": {},
   "outputs": [],
   "source": [
    "tuple_of_prime_numbers = (2, 3, 5, 7, 11, 13, 17, 19, 23, 29)\n",
    "print(tuple_of_prime_numbers)\n",
    "\n",
    "# Print the first element\n",
    "print(tuple_of_prime_numbers[0])\n",
    "\n",
    "# Print the last element\n",
    "print(tuple_of_prime_numbers[-1])\n"
   ]
  },
  {
   "cell_type": "markdown",
   "metadata": {},
   "source": [
    "### §3.2.1 - A Few Things You Can Do with Tuples\n",
    "Below are a few things you can do with tuples. Of course, we can't do as much as we did with lists because tuples are immutable."
   ]
  },
  {
   "cell_type": "code",
   "execution_count": null,
   "metadata": {},
   "outputs": [],
   "source": [
    "# Concatenate or join two tuples\n",
    "tuple_of_prime_numbers = (2, 3, 5, 7, 11, 13, 17, 19, 23, 29)\n",
    "tuple_of_composite_numbers = (4, 6, 8, 9, 10, 12, 14, 15, 16, 18)\n",
    "\n",
    "tuple_of_numbers = tuple_of_prime_numbers + tuple_of_composite_numbers\n",
    "print(tuple_of_numbers)\n"
   ]
  },
  {
   "cell_type": "code",
   "execution_count": null,
   "metadata": {},
   "outputs": [],
   "source": [
    "# Count the occurrences of an element in a tuple\n",
    "tuple_of_numbers = (1, 2, 3, 4, 5, 6, 7, 2, 5, 6, 3, 7, 2)\n",
    "print(tuple_of_numbers.count(2))\n",
    "\n",
    "# Works with lists too!\n",
    "list_of_numbers = [1, 2, 3, 4, 5, 6, 7, 2, 5, 6, 3, 7, 2]\n",
    "print(list_of_numbers.count(2))\n"
   ]
  },
  {
   "cell_type": "code",
   "execution_count": null,
   "metadata": {},
   "outputs": [],
   "source": [
    "# Return the index of an element in a tuple\n",
    "tuple_of_numbers = (1, 2, 3, 4, 5, 6, 7, 2, 5, 6, 3, 7, 2)\n",
    "print(tuple_of_numbers.index(2))\n"
   ]
  },
  {
   "cell_type": "markdown",
   "metadata": {},
   "source": [
    "## §3.3 - Sets\n",
    "Sets are another type of container that can hold multiple objects at the same time. Sets are defined using curly braces `{}` and can be assigned to a variable. Sets can hold any type of object, including other sets.\n",
    "\n",
    "The limits of sets are:\n",
    "1. Sets cannot hold duplicate items\n",
    "2. Sets are unordered (meaning they do not have an index)\n",
    "3. Sets are mutable (meaning they can be changed)\n",
    "4. Sets are unchangedable, you can only add or remove items from a set but not change the items themselves"
   ]
  },
  {
   "cell_type": "code",
   "execution_count": null,
   "metadata": {},
   "outputs": [],
   "source": [
    "# Create an empty set--you cannot use empty curly braces, that's coming up next!\n",
    "empty_set = set()\n",
    "\n",
    "# Create set of toys\n",
    "set_of_toys = {\"Car\", \"Truck\", \"Doll\", \"Puzzle\", \"Ball\"}\n",
    "print(set_of_toys)\n",
    "\n",
    "# Add \"Teddy Bear\" to the set\n",
    "set_of_toys.add(\"Teddy Bear\")\n",
    "print(set_of_toys)\n",
    "\n",
    "# Print the length of the set\n",
    "print(len(set_of_toys))\n",
    "\n",
    "# Print if \"Car\" is in the set\n",
    "print(\"Car\" in set_of_toys)\n",
    "\n",
    "# Create another set of toys using the set() function\n",
    "another_set_of_toys = set([\"Car\", \"Truck\", \"Doll\", \"Puzzle\", \"Ball\"])\n",
    "print(another_set_of_toys)\n"
   ]
  },
  {
   "cell_type": "markdown",
   "metadata": {},
   "source": [
    "# §3.4 - Dictionaries\n",
    "Dictionaries are another type of container that can hold multiple objects at the same time. Dictionaries are defined using curly braces `{}` and can be assigned to a variable. Dictionaries can hold any type of object, including other dictionaries."
   ]
  },
  {
   "cell_type": "code",
   "execution_count": null,
   "metadata": {},
   "outputs": [],
   "source": [
    "# Create an empty dictionary using just curly braces\n",
    "empty_dict = {}\n",
    "print(empty_dict)\n",
    "\n",
    "# Create an empty dictionary using the dict() function\n",
    "another_empty_dict = dict()\n",
    "print(another_empty_dict)\n"
   ]
  },
  {
   "cell_type": "markdown",
   "metadata": {},
   "source": [
    "Dictionaries are special as the way they store values is different from lists, tuples, and sets. Dictionaries store values in key-value pairs. Each key must be unique, but the values can be the same. Keys can be any immutable type, such as strings, numbers, or tuples. Values can be any type, including lists, tuples, sets, and dictionaries."
   ]
  },
  {
   "cell_type": "code",
   "execution_count": null,
   "metadata": {},
   "outputs": [],
   "source": [
    "# Create a dictionary that stores a student's information\n",
    "student_information = {\n",
    "    \"name\": \"Sarah Jones\",\n",
    "    \"age\": 17,\n",
    "    \"year\": \"Junior\",\n",
    "    \"gpa\": 3.5\n",
    "}\n",
    "print(student_information)\n"
   ]
  },
  {
   "cell_type": "markdown",
   "metadata": {},
   "source": [
    "Instead of referencing items in a dictionary by their index, we reference them by their key. This is similar to how we reference items in a list by their index."
   ]
  },
  {
   "cell_type": "code",
   "execution_count": null,
   "metadata": {},
   "outputs": [],
   "source": [
    "student_information = {\n",
    "    \"name\": \"Sarah Jones\",\n",
    "    \"age\": 17,\n",
    "    \"year\": \"Junior\",\n",
    "    \"gpa\": 3.5\n",
    "}\n",
    "\n",
    "# Print the student's name\n",
    "print(student_information[\"name\"])\n",
    "\n",
    "# Print the student's GPA\n",
    "print(student_information[\"gpa\"])\n"
   ]
  },
  {
   "cell_type": "markdown",
   "metadata": {},
   "source": [
    "### §3.4.1 - Dictionary Methods, Functions, and Things to Know\n",
    "Use the assignment syntax before to update the value of a key in a dictionary. You can also use `update()` to update the value of a key in a dictionary. This method takes one argument, a dictionary of key-value pairs to update the dictionary with."
   ]
  },
  {
   "cell_type": "code",
   "execution_count": null,
   "metadata": {},
   "outputs": [],
   "source": [
    "student_information = {\n",
    "    \"name\": \"Sarah Jones\",\n",
    "    \"age\": 17,\n",
    "    \"year\": \"Junior\",\n",
    "    \"gpa\": 3.5\n",
    "}\n",
    "print(student_information, \"\\n\") # \\n is a newline escape character\n",
    "\n",
    "# The student's GPA has improved to 3.7\n",
    "student_information[\"gpa\"] = 3.7\n",
    "print(student_information, \"\\n\")\n",
    "\n",
    "# The student has moved up to Senior year\n",
    "student_information.update({\"year\": \"Senior\"})\n",
    "print(student_information)\n"
   ]
  },
  {
   "cell_type": "markdown",
   "metadata": {},
   "source": [
    "Add items the same exact way but use a key that doesn't exist yet."
   ]
  },
  {
   "cell_type": "code",
   "execution_count": null,
   "metadata": {},
   "outputs": [],
   "source": [
    "student_information = {\n",
    "    \"name\": \"Sarah Jones\",\n",
    "    \"age\": 17,\n",
    "    \"year\": \"Junior\",\n",
    "    \"gpa\": 3.5\n",
    "}\n",
    "print(student_information, \"\\n\")\n",
    "\n",
    "# Add the student's class list\n",
    "student_information[\"classes\"] = [\"Math\", \"Science\", \"English\", \"History\", \"Art\"]\n",
    "print(student_information, \"\\n\")\n",
    "\n",
    "# Add the student's address\n",
    "student_information.update({\"address\": \"123 Main St\"})\n",
    "print(student_information)\n"
   ]
  },
  {
   "cell_type": "markdown",
   "metadata": {},
   "source": [
    "`pop()` removes an element of the dictionary based on its key. It takes one argument, the key of the item to remove. `popitem()` must be used if you don't want to give an argument to remove the last item."
   ]
  },
  {
   "cell_type": "code",
   "execution_count": null,
   "metadata": {},
   "outputs": [],
   "source": [
    "student_information = {\n",
    "    \"name\": \"Sarah Jones\",\n",
    "    \"age\": 17,\n",
    "    \"year\": \"Junior\",\n",
    "    \"gpa\": 3.5\n",
    "}\n",
    "print(student_information, \"\\n\")\n",
    "\n",
    "# Remove the student's age\n",
    "student_information.pop(\"age\")\n",
    "print(student_information, \"\\n\")\n",
    "\n",
    "# Remove the last item in the dictionary\n",
    "student_information.popitem()\n",
    "print(student_information)\n"
   ]
  },
  {
   "cell_type": "markdown",
   "metadata": {},
   "source": [
    "`del()` is easier to use than `pop()` if you know the key of the item you want to remove. It takes one argument, the key of the item to remove."
   ]
  },
  {
   "cell_type": "code",
   "execution_count": null,
   "metadata": {},
   "outputs": [],
   "source": [
    "student_information = {\n",
    "    \"name\": \"Sarah Jones\",\n",
    "    \"age\": 17,\n",
    "    \"year\": \"Junior\",\n",
    "    \"gpa\": 3.5\n",
    "}\n",
    "print(student_information, \"\\n\")\n",
    "\n",
    "# Remove the student's age\n",
    "del student_information[\"age\"]\n",
    "print(student_information)\n"
   ]
  },
  {
   "cell_type": "markdown",
   "metadata": {},
   "source": [
    "`clear()` is a method that removes all items from a dictionary."
   ]
  },
  {
   "cell_type": "code",
   "execution_count": null,
   "metadata": {},
   "outputs": [],
   "source": [
    "student_information = {\n",
    "    \"name\": \"Sarah Jones\",\n",
    "    \"age\": 17,\n",
    "    \"year\": \"Junior\",\n",
    "    \"gpa\": 3.5\n",
    "}\n",
    "print(student_information, \"\\n\")\n",
    "\n",
    "# Clear the dictionary\n",
    "student_information.clear()\n",
    "\n",
    "print(student_information)\n"
   ]
  },
  {
   "cell_type": "markdown",
   "metadata": {},
   "source": [
    "`copy()` is a method that returns a copy of a dictionary."
   ]
  },
  {
   "cell_type": "code",
   "execution_count": null,
   "metadata": {},
   "outputs": [],
   "source": [
    "student_information = {\n",
    "    \"name\": \"Sarah Jones\",\n",
    "    \"age\": 17,\n",
    "    \"year\": \"Junior\",\n",
    "    \"gpa\": 3.5\n",
    "}\n",
    "print(student_information, \"\\n\")\n",
    "\n",
    "# Copy the student information to a new variable and change the name to \"Jane Smith\"\n",
    "new_student_information = student_information.copy()\n",
    "new_student_information[\"name\"] = \"Jane Smith\"\n",
    "print(new_student_information, \"\\n\")\n",
    "\n",
    "# You can also create a new dictionary using the dict() function\n",
    "new_student_information = dict(student_information)\n",
    "new_student_information[\"name\"] = \"Sally Brown\"\n",
    "print(new_student_information)\n"
   ]
  },
  {
   "cell_type": "markdown",
   "metadata": {},
   "source": [
    "Nested dictionaries are dictionaries that are inside of other dictionaries. You can access items in nested dictionaries by using multiple curly braces `{}`. We will be using them for more complex data structures later in the course."
   ]
  },
  {
   "cell_type": "code",
   "execution_count": null,
   "metadata": {},
   "outputs": [],
   "source": [
    "employee_database = {\n",
    "    \"ceo\" : {\n",
    "        \"name\": \"Jane Smith\",\n",
    "        \"age\": 45,\n",
    "        \"years_of_experience\": 20\n",
    "    },\n",
    "    \"cfo\" : {\n",
    "        \"name\": \"John Doe\",\n",
    "        \"age\": 35,\n",
    "        \"years_of_experience\": 10\n",
    "    },\n",
    "    \"project manager\" : {\n",
    "        \"name\": \"Joe Schmo\",\n",
    "        \"age\": 25,\n",
    "        \"years_of_experience\": 5\n",
    "    },\n",
    "    \"receptionist\" : {\n",
    "        \"name\": \"Sally Brown\",\n",
    "        \"age\": 20,\n",
    "        \"years_of_experience\": 2\n",
    "    }\n",
    "}\n",
    "\n",
    "# Print the age of the receptionist\n",
    "print(employee_database[\"receptionist\"][\"age\"])\n"
   ]
  },
  {
   "cell_type": "markdown",
   "metadata": {},
   "source": [
    "`fromkeys()` is a function that creates a new dictionary from a list of keys. It takes two arguments, the list of keys, and the value to assign to each key."
   ]
  },
  {
   "cell_type": "code",
   "execution_count": null,
   "metadata": {},
   "outputs": [],
   "source": [
    "new_students = [\"Tyler\", \"Samantha\", \"James\", \"Brittany\", \"Amanda\"]\n",
    "\n",
    "# The new students are all in the 9th grade\n",
    "student_information = dict.fromkeys(new_students, \"9th grade\")\n",
    "\n",
    "print(student_information)\n"
   ]
  },
  {
   "cell_type": "markdown",
   "metadata": {},
   "source": [
    "`get()` is yet another way to find the value from a key."
   ]
  },
  {
   "cell_type": "code",
   "execution_count": null,
   "metadata": {},
   "outputs": [],
   "source": [
    "student_information = {\n",
    "    \"name\": \"Sarah Jones\",\n",
    "    \"age\": 17,\n",
    "    \"year\": \"Junior\",\n",
    "    \"gpa\": 3.5\n",
    "}\n",
    "print(student_information, \"\\n\")\n",
    "\n",
    "# Print the age of the student\n",
    "print(student_information.get(\"age\"))\n"
   ]
  },
  {
   "cell_type": "code",
   "execution_count": null,
   "metadata": {},
   "outputs": [],
   "source": []
  },
  {
   "cell_type": "markdown",
   "metadata": {},
   "source": [
    "`getdefault()` is a method that returns the value of a key if it exists, otherwise it returns and stores the default value. This method takes two arguments, the key to get the value of, and the default value to return if the key doesn't exist."
   ]
  },
  {
   "cell_type": "code",
   "execution_count": null,
   "metadata": {},
   "outputs": [],
   "source": [
    "student_information = {\n",
    "    \"name\": \"Sarah Jones\",\n",
    "    \"age\": 17,\n",
    "    \"year\": \"Junior\",\n",
    "    \"gpa\": 3.5\n",
    "}\n",
    "print(student_information, \"\\n\")\n",
    "\n",
    "# Print the year of the student, if it doesn't exist, store \"Senior\"\n",
    "print(student_information.setdefault(\"year\", \"Senior\"))\n",
    "\n",
    "# Print the address of the student, if it doesn't exist, store \"123 Main St\"\n",
    "print(student_information.setdefault(\"address\", \"123 Main St\"), \"\\n\")\n",
    "\n",
    "print(student_information)\n"
   ]
  },
  {
   "cell_type": "markdown",
   "metadata": {},
   "source": [
    "`values()` is a method that returns a list of **JUST** all the values in a dictionary.\n",
    "`keys()` is a method that returns a list of **JUST** all the keys in a dictionary."
   ]
  },
  {
   "cell_type": "code",
   "execution_count": null,
   "metadata": {},
   "outputs": [],
   "source": [
    "student_information = {\n",
    "    \"name\": \"Sarah Jones\",\n",
    "    \"age\": 17,\n",
    "    \"year\": \"Junior\",\n",
    "    \"gpa\": 3.5\n",
    "}\n",
    "print(student_information, \"\\n\")\n",
    "\n",
    "# Print the keys of the dictionary.\n",
    "print(student_information.keys())\n",
    "\n",
    "# Print the values of the dictionary.\n",
    "print(student_information.values())\n"
   ]
  },
  {
   "cell_type": "markdown",
   "metadata": {},
   "source": [
    "### §3.4 - Exercise A - Building a Dictionary\n",
    "Create a dictionary that stores the following information about Stacy:\n",
    "- Name: Stacy Daniels\n",
    "- Age: 17 y/o\n",
    "- Prononouns: she/her\n",
    "- Favorite Color: Green\n",
    "- Enrolled Classes: Math, Science, English, History, Art"
   ]
  },
  {
   "cell_type": "code",
   "execution_count": null,
   "metadata": {},
   "outputs": [],
   "source": []
  },
  {
   "cell_type": "markdown",
   "metadata": {},
   "source": [
    "### §3.4 - Exercise B - User Input Dictionary with Exception Handling\n",
    "Create a dictionary that stores the following information about a user:\n",
    "- Name\n",
    "- Age\n",
    "- Pronouns\n",
    "\n",
    "The user should be able to input their own information. Print the dictionary at the end and warn the user if they input something invalid as their age."
   ]
  },
  {
   "cell_type": "code",
   "execution_count": null,
   "metadata": {},
   "outputs": [],
   "source": []
  }
 ],
 "metadata": {
  "kernelspec": {
   "display_name": "Python 3",
   "language": "python",
   "name": "python3"
  },
  "language_info": {
   "codemirror_mode": {
    "name": "ipython",
    "version": 3
   },
   "file_extension": ".py",
   "mimetype": "text/x-python",
   "name": "python",
   "nbconvert_exporter": "python",
   "pygments_lexer": "ipython3",
   "version": "3.11.4"
  }
 },
 "nbformat": 4,
 "nbformat_minor": 2
}
