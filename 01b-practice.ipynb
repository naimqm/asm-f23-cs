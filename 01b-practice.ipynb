{
 "cells": [
  {
   "cell_type": "markdown",
   "metadata": {},
   "source": [
    "# Lesson 1 - Practice Problems"
   ]
  },
  {
   "cell_type": "markdown",
   "metadata": {},
   "source": [
    "## Problem 1 - Dominic's Store Trip & Coupon Book\n",
    "Dominic is planning a trip to the store and needs to log ALL of the following details in the computer as variables for a financial report.\n",
    "\n",
    "- Dominic is going to the store to buy five items [1 variable]\n",
    "- The five items are as follows with their base prices: [5 variables]\n",
    "  - Milk; $3.99\n",
    "  - Eggs; $2.99\n",
    "  - Bread; $1.99\n",
    "  - Cheese; $4.99\n",
    "  - Crackers; $2.49\n",
    "- Dominic has a coupon book with the following coupons which are applied to the base prices and result in a final price for each item: [5 variables]\n",
    "  - Milk; 10% off\n",
    "  - Eggs; 20% off\n",
    "  - Bread; 50% off\n",
    "  - Cheese; 25% off\n",
    "  - Crackers; 75% off\n",
    "- Dominic has a budget of $10.00 [1 variable]\n",
    "- Does Dominic stay at or under budget without using the coupons? [1 variable]\n",
    "- Does Dominic stay at or under budget with the coupons? [1 variable]\n",
    "\n",
    "**Write a program that codifies the above information and prints it out to the screen.**"
   ]
  },
  {
   "cell_type": "code",
   "execution_count": null,
   "metadata": {},
   "outputs": [],
   "source": []
  },
  {
   "cell_type": "markdown",
   "metadata": {},
   "source": [
    "### Problem 2 - Makkah's Class Schedule\n",
    "Makkah has a very busy schedule these days and has decided to use Python to help with organizing schedules. Makkah needs to log ALL of the following details in the computer as variables for the computer to help.\n",
    "\n",
    "- Makkah has 6 classes [1 variable]\n",
    "- The 6 classes are as follows with the following time spent in class per day: [6 variables]\n",
    "  - Honors Algebra 2; 45 minutes\n",
    "  - AP World History; 55 minutes\n",
    "  - AP Physics 1; 45 minutes\n",
    "  - AP English Language and Composition; 1 hour and 15 minutes\n",
    "  - AP Computer Science A; 35 minutes\n",
    "  - Honors Spanish III; 40 minutes\n",
    "- Makkah needs to spend 1/5 the time spent in Honors courses on homework each day and 1/4 the time spent in AP courses on homework each day [2 variables]\n",
    "- Makkah needs to know the final amount of time spent on homework each day per class [6 variables]\n",
    "- Makkah needs to know the final amount of time spent on homework each day for all classes [1 variable]\n",
    "- Makkah needs to know if the total amount of time spent on homework each day is greater than 2 hours [1 variable]\n",
    "- Makkah needs to know if the total amount of time spent on homework for a whole month (assuming 4 business weeks, excluding weekends) is greater than 40 hours [1 variable]\n",
    "\n",
    "**Write a program that codifies the above information and prints it out to the screen.**"
   ]
  },
  {
   "cell_type": "code",
   "execution_count": null,
   "metadata": {},
   "outputs": [],
   "source": []
  }
 ],
 "metadata": {
  "kernelspec": {
   "display_name": "Python 3",
   "language": "python",
   "name": "python3"
  },
  "language_info": {
   "codemirror_mode": {
    "name": "ipython",
    "version": 3
   },
   "file_extension": ".py",
   "mimetype": "text/x-python",
   "name": "python",
   "nbconvert_exporter": "python",
   "pygments_lexer": "ipython3",
   "version": "3.11.4"
  },
  "orig_nbformat": 4
 },
 "nbformat": 4,
 "nbformat_minor": 2
}
