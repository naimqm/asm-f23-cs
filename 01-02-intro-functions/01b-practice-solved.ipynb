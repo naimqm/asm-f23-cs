{
 "cells": [
  {
   "cell_type": "markdown",
   "metadata": {},
   "source": [
    "# Lesson 1 - Practice Problems"
   ]
  },
  {
   "cell_type": "markdown",
   "metadata": {},
   "source": [
    "## Problem 1 - Dominic's Store Trip & Coupon Book\n",
    "Dominic is planning a trip to the store and needs to log ALL of the following details in the computer as variables for a financial report.\n",
    "\n",
    "- Dominic is going to the store to buy five items [1 variable]\n",
    "- The five items are as follows with their base prices: [5 variables]\n",
    "  - Milk; $3.99\n",
    "  - Eggs; $2.99\n",
    "  - Bread; $1.99\n",
    "  - Cheese; $4.99\n",
    "  - Crackers; $2.49\n",
    "- Dominic has a coupon book with the following coupons which are applied to the base prices and result in a final price for each item: [5 variables]\n",
    "  - Milk; 10% off\n",
    "  - Eggs; 20% off\n",
    "  - Bread; 50% off\n",
    "  - Cheese; 25% off\n",
    "  - Crackers; 75% off\n",
    "- Dominic has a budget of $10.00 [1 variable]\n",
    "- Does Dominic stay at or under budget without using the coupons? [1 variable]\n",
    "- Does Dominic stay at or under budget with the coupons? [1 variable]\n",
    "\n",
    "**Write a program that codifies the above information and prints it out to the screen.**"
   ]
  },
  {
   "cell_type": "code",
   "execution_count": 2,
   "metadata": {},
   "outputs": [
    {
     "name": "stdout",
     "output_type": "stream",
     "text": [
      "Dominic's total cost without coupons is: $16.45\n",
      "Dominic's total cost with coupons is: $11.34\n",
      "Without using coupons, it is False that Dominic stays within budget.\n",
      "With using coupons, it is False that Dominic stays within budget.\n"
     ]
    }
   ],
   "source": [
    "# Number of items Dominic is buying\n",
    "num_items = 5\n",
    "\n",
    "# Define the prices for individual items as variables. \n",
    "milk = 3.99\n",
    "eggs = 2.99\n",
    "bread = 1.99\n",
    "cheese = 4.99\n",
    "crackers = 2.49\n",
    "\n",
    "# Calculate the cost after applying the discount directly in the calculation\n",
    "discounted_milk = milk - (milk * 0.10)\n",
    "discounted_eggs = eggs - (eggs * 0.20)\n",
    "discounted_bread = bread - (bread * 0.50)\n",
    "discounted_cheese = cheese - (cheese * 0.25)\n",
    "discounted_crackers = crackers - (crackers * 0.75)\n",
    "\n",
    "# Dominic's budget\n",
    "budget = 10.00\n",
    "\n",
    "# Total cost without coupons\n",
    "total_cost_without_coupons = milk + eggs + bread + cheese + crackers\n",
    "\n",
    "# Total cost with coupons\n",
    "total_cost_with_coupons = discounted_milk + discounted_eggs + discounted_bread + discounted_cheese + discounted_crackers\n",
    "\n",
    "# Check if Dominic manages to stay under budget without coupons\n",
    "under_budget_without_coupons = total_cost_without_coupons <= budget\n",
    "\n",
    "# Check if Dominic manages to stay under budget with coupons\n",
    "under_budget_with_coupons = total_cost_with_coupons <= budget\n",
    "\n",
    "# Print the results, note that we use the %.2f format specifier to print floats with two decimal places\n",
    "print(\"Dominic's total cost without coupons is: $%.2f\" % total_cost_without_coupons)\n",
    "print(\"Dominic's total cost with coupons is: $%.2f\" % total_cost_with_coupons)\n",
    "print(\"Without using coupons, it is\", under_budget_without_coupons, \"that Dominic stays within budget.\")\n",
    "print(\"With using coupons, it is\", under_budget_with_coupons, \"that Dominic stays within budget.\")\n"
   ]
  },
  {
   "cell_type": "markdown",
   "metadata": {},
   "source": [
    "### Problem 2 - Makkah's Class Schedule\n",
    "Makkah has a very busy schedule these days and has decided to use Python to help with organizing schedules. Makkah needs to log ALL of the following details in the computer as variables for the computer to help.\n",
    "\n",
    "- Makkah has 6 classes [1 variable]\n",
    "- The 6 classes are as follows with the following time spent in class per day: [6 variables]\n",
    "  - Honors Algebra 2; 45 minutes\n",
    "  - AP World History; 55 minutes\n",
    "  - AP Physics 1; 45 minutes\n",
    "  - AP English Language and Composition; 1 hour and 15 minutes\n",
    "  - AP Computer Science A; 35 minutes\n",
    "  - Honors Spanish III; 40 minutes\n",
    "- Makkah needs to spend 1/5 the time spent in Honors courses on homework each day and 1/4 the time spent in AP courses on homework each day [2 variables]\n",
    "- Makkah needs to know the final amount of time spent on homework each day per class [6 variables]\n",
    "- Makkah needs to know the final amount of time spent on homework each day for all classes [1 variable]\n",
    "- Makkah needs to know if the total amount of time spent on homework each day is greater than 2 hours [1 variable]\n",
    "- Makkah needs to know if the total amount of time spent on homework for a whole month (assuming 4 business weeks, excluding weekends) is greater than 40 hours [1 variable]\n",
    "\n",
    "**Write a program that codifies the above information and prints it out to the screen.**"
   ]
  },
  {
   "cell_type": "code",
   "execution_count": 3,
   "metadata": {},
   "outputs": [
    {
     "name": "stdout",
     "output_type": "stream",
     "text": [
      "Total amount of time spent on homework each day is: 69.5 minutes\n",
      "Total amount of time spent on homework each month is: 1390.0 minutes\n",
      "The total amount of time spent on homework each day is greater than 2 hours: False\n",
      "The total amount of time spent on homework each month is greater than 40 hours: False\n"
     ]
    }
   ],
   "source": [
    "# Number of classes Makkah is attending\n",
    "num_classes = 6\n",
    "\n",
    "# Define school time duration for each class \n",
    "honors_algebra_dur = 45  # In minutes\n",
    "AP_world_history_dur = 55\n",
    "AP_physics_dur = 45\n",
    "AP_english_dur = 75  # 1 hour 15 minutes = 75 minutes\n",
    "AP_computer_science_dur = 35\n",
    "honors_spanish_dur = 40\n",
    "\n",
    "# Define homework multipliers constants\n",
    "honors_hw_multiplier = 1/5\n",
    "AP_hw_multiplier = 1/4\n",
    "\n",
    "# Define the homework time for individual classes by multiplying class duration with respective multipliers\n",
    "honors_algebra_hw = honors_algebra_dur * honors_hw_multiplier\n",
    "AP_world_history_hw = AP_world_history_dur * AP_hw_multiplier\n",
    "AP_physics_hw = AP_physics_dur * AP_hw_multiplier\n",
    "AP_english_hw = AP_english_dur * AP_hw_multiplier\n",
    "AP_computer_science_hw = AP_computer_science_dur * AP_hw_multiplier\n",
    "honors_spanish_hw = honors_spanish_dur * honors_hw_multiplier\n",
    "\n",
    "# Calculate the total daily homework time by adding all the individual homework times\n",
    "total_homework_daily = honors_algebra_hw + AP_world_history_hw + AP_physics_hw + AP_english_hw + AP_computer_science_hw + honors_spanish_hw\n",
    "\n",
    "# Check if the total daily homework time is greater than 2 hours (120 minutes)\n",
    "greater_than_two_hours = total_homework_daily > 120\n",
    "\n",
    "# Calculate the total monthly homework time by multiplying total daily homework time with number of weekdays in a month (4 weeks * 5 days/week)\n",
    "total_homework_monthly = total_homework_daily * 4 * 5\n",
    "\n",
    "# Check if the total monthly homework time is greater than 40 hours (2400 minutes)\n",
    "greater_than_forty_hours = total_homework_monthly > 2400\n",
    "\n",
    "# Print out the results in required format\n",
    "print(\"Total amount of time spent on homework each day is:\", total_homework_daily, \"minutes\")\n",
    "print(\"Total amount of time spent on homework each month is:\", total_homework_monthly, \"minutes\")\n",
    "print(\"The total amount of time spent on homework each day is greater than 2 hours:\", greater_than_two_hours)\n",
    "print(\"The total amount of time spent on homework each month is greater than 40 hours:\", greater_than_forty_hours)"
   ]
  }
 ],
 "metadata": {
  "kernelspec": {
   "display_name": "Python 3",
   "language": "python",
   "name": "python3"
  },
  "language_info": {
   "codemirror_mode": {
    "name": "ipython",
    "version": 3
   },
   "file_extension": ".py",
   "mimetype": "text/x-python",
   "name": "python",
   "nbconvert_exporter": "python",
   "pygments_lexer": "ipython3",
   "version": "3.11.4"
  },
  "orig_nbformat": 4
 },
 "nbformat": 4,
 "nbformat_minor": 2
}
