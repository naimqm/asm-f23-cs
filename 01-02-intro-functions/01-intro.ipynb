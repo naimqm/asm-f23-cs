{
 "cells": [
  {
   "cell_type": "markdown",
   "metadata": {},
   "source": [
    "# Lesson 1: Introduction to Programming in Python\n",
    "Welcome to the first lesson of the course! In this lesson, we will learn the basic logic behind programming and how to write our first program in Python. We will also learn how to use the Jupyter Notebook environment to write and run our programs in Google Colab."
   ]
  },
  {
   "cell_type": "markdown",
   "metadata": {},
   "source": [
    "## §1.1 Running Python Code & Printing to the Screen\n",
    "To start, let's learn about the `print()` statement. With the print statement, we can print text to the screen. For example, we can print the text \"Hello World!\" to the screen by typing the following code into the cell below and then running the cell. Run the cell by clicking the play button on the left side of the cell or by pressing `Shift + Enter` on your keyboard.\n",
    "\n",
    "You can also see that a comment is present in the example below. A comment is a line of text that is not executed as code. Comments are used to explain what the code does and are ignored by the computer when the code is run.\n"
   ]
  },
  {
   "cell_type": "code",
   "execution_count": null,
   "metadata": {},
   "outputs": [],
   "source": [
    "# This statement prints \"Hello World!\" to the screen.\n",
    "print(\"Hello World!\")"
   ]
  },
  {
   "cell_type": "markdown",
   "metadata": {},
   "source": [
    "Now print your name to the screen by writing your name inside the quotation marks in the print statement below. Then run the cell to see the output."
   ]
  },
  {
   "cell_type": "code",
   "execution_count": null,
   "metadata": {},
   "outputs": [],
   "source": [
    "# This statement prints my name to the screen.\n",
    "print(\"\")"
   ]
  },
  {
   "cell_type": "markdown",
   "metadata": {},
   "source": [
    "### §1.1.1 Naming Variables in Python\n",
    "There are some important rules to note when it comes to naming variables in Python.\n",
    "\n",
    "1. Variable names can only contain letters, numbers, and underscores. Variable names can start with a letter or an underscore, but not with a number.\n",
    "2. Spaces are not allowed in variable names, so we use underscores instead of spaces. For example, use `my_variable` instead of `my variable`.\n",
    "3. You cannot use Python keywords as variable names. For example, you cannot use the word `print` as a variable name because `print` is a keyword that is used to print text to the screen."
   ]
  },
  {
   "cell_type": "code",
   "execution_count": null,
   "metadata": {},
   "outputs": [],
   "source": [
    "# Legal variable names:\n",
    "myvar = \"John\"\n",
    "my_var = \"John\"\n",
    "_my_var = \"John\"\n",
    "myVar = \"John\"\n",
    "MYVAR = \"John\"\n",
    "myvar2 = \"John\"\n",
    "\n",
    "# Illegal variable names (uncomment to see the error):\n",
    "# 2myvar = \"John\"\n",
    "# my-var = \"John\"\n",
    "# my var = \"John\""
   ]
  },
  {
   "cell_type": "markdown",
   "metadata": {},
   "source": [
    "## §1.2 Variables\n",
    "Next we'll introduce variables in Python. Variables are used to store data in a program. There are multiple types of variables in Python, but we will only focus on four of them in this course: integers, floats, strings, and booleans."
   ]
  },
  {
   "cell_type": "markdown",
   "metadata": {},
   "source": [
    "### §1.2.1 Integers\n",
    "Integers in Python are used to store whole numbers. For example, we can store the number 5 in a variable called `x` by typing the following code into the cell below and then running the cell. The print statement is used to print the value of the variable `x` to the screen."
   ]
  },
  {
   "cell_type": "code",
   "execution_count": null,
   "metadata": {},
   "outputs": [],
   "source": [
    "x = 5\n",
    "\n",
    "print(x)"
   ]
  },
  {
   "cell_type": "markdown",
   "metadata": {},
   "source": [
    "More realistic examples of integer variables include storing the number of students in a class, the number of items in a shopping cart, or the number of days in a week. We'll practive with naming conventions throughout the course. For now, just remember that variable names should be descriptive and should not contain spaces."
   ]
  },
  {
   "cell_type": "code",
   "execution_count": null,
   "metadata": {},
   "outputs": [],
   "source": [
    "# There are 18 students enrolled in our class.\n",
    "num_students = 18\n",
    "print(num_students)\n",
    "\n",
    "# James has 5 items in the cart.\n",
    "num_items = 5\n",
    "print(num_items)\n",
    "\n",
    "# There are 7 days in a week.\n",
    "days_in_week = 7\n",
    "print(days_in_week)"
   ]
  },
  {
   "cell_type": "markdown",
   "metadata": {},
   "source": [
    "### §1.2.2 Floats\n",
    "Floats in Python are used to store decimal numbers. For example, we can store the number 3.14 in a variable called `PI` by typing the following code into the cell below and then running the cell. The print statement is used to print the value of the variable `PI` to the screen."
   ]
  },
  {
   "cell_type": "code",
   "execution_count": null,
   "metadata": {},
   "outputs": [],
   "source": [
    "PI = 3.14159\n",
    "\n",
    "print(PI)"
   ]
  },
  {
   "cell_type": "markdown",
   "metadata": {},
   "source": [
    "Additional examples of float variables include storing the price of an item, the amount of money in a bank account, or the temperature outside. We'll practive with naming conventions throughout the course. For now, just remember that variable names should be descriptive and should not contain spaces."
   ]
  },
  {
   "cell_type": "code",
   "execution_count": null,
   "metadata": {},
   "outputs": [],
   "source": [
    "# The customer's bank balance is $329.45.\n",
    "bank_balance = 329.45\n",
    "print(bank_balance)\n",
    "\n",
    "# Makkah has completed 9 of the 10 assignments.\n",
    "completion_rate = 0.9\n",
    "print(completion_rate)\n",
    "\n",
    "# Christian is writing a one-and-a-half page report.\n",
    "report_length = 1.5"
   ]
  },
  {
   "cell_type": "markdown",
   "metadata": {},
   "source": [
    "### §1.2.3 Strings\n",
    "Strings in Python are used to store text. For example, we can store the text \"Hello World!\" in a variable called `greeting` by typing the following code into the cell below and then running the cell. The print statement is used to print the value of the variable `greeting` to the screen.\n",
    "\n",
    "NOTE: Strings must be surrounded by either single quotes or double quotes. For example, the following code will not work because the string is not surrounded by quotes. \n",
    "\n",
    "*I personally prefer to use double quotes because other programming languages use double quotes to surround strings.*"
   ]
  },
  {
   "cell_type": "code",
   "execution_count": 18,
   "metadata": {},
   "outputs": [
    {
     "name": "stdout",
     "output_type": "stream",
     "text": [
      "Hello World!\n"
     ]
    }
   ],
   "source": [
    "greeting = \"Hello World!\"\n",
    "\n",
    "print(greeting)"
   ]
  },
  {
   "cell_type": "code",
   "execution_count": null,
   "metadata": {},
   "outputs": [],
   "source": [
    "# The magic word is \"abracadabra\".\n",
    "magic_word = \"abracadabra\"\n",
    "print(magic_word)\n",
    "\n",
    "# Sofia's old password was 12345abc.\n",
    "old_password = \"12345abc\"\n",
    "print(old_password)\n",
    "\n",
    "# The customer said, \"I'm always right.\"\n",
    "customer_quote = \"I'm always right.\"\n",
    "print(customer_quote)\n"
   ]
  },
  {
   "cell_type": "markdown",
   "metadata": {},
   "source": [
    "### §1.2.4 Booleans\n",
    "Boolean values in Python are used to store the truth values `True` and `False`. For example, we can store the value `True` in a variable called `is_raining` by typing the following code into the cell below and then running the cell. The print statement is used to print the value of the variable `is_raining` to the screen."
   ]
  },
  {
   "cell_type": "code",
   "execution_count": null,
   "metadata": {},
   "outputs": [],
   "source": [
    "is_raining = True\n",
    "\n",
    "print(is_raining)"
   ]
  },
  {
   "cell_type": "code",
   "execution_count": null,
   "metadata": {},
   "outputs": [],
   "source": [
    "# Daniel is having fun in class.\n",
    "is_having_fun = True\n",
    "\n",
    "# Kamiah does not have green hair.\n",
    "has_green_hair = False\n",
    "\n",
    "# Nikolas likes computers.\n",
    "likes_computers = True"
   ]
  },
  {
   "cell_type": "markdown",
   "metadata": {},
   "source": [
    "### §1.2 - Exercise A - Ky'mora's Shopping Trip\n",
    "Ky'mora is planning a shopping trip and wants to log this information in a journal. The information for the trip is as follows.\n",
    "- Ky'mora has $65.50 to spend.\n",
    "- Ky'mora has a total of 6 items to purchase.\n",
    "- Ky'mora is going to Walmart.\n",
    "- Ky'mora cannot go over budget.\n",
    "\n",
    "**Define variables for each of the above pieces of information, comment what variable type each should be, and print each value to the screen.**"
   ]
  },
  {
   "cell_type": "code",
   "execution_count": null,
   "metadata": {},
   "outputs": [],
   "source": []
  },
  {
   "cell_type": "markdown",
   "metadata": {},
   "source": [
    "### §1.2 - Exercise B - Louis' Study Session\n",
    "Louis is planning a study session and needs to keep track of information for a report to earn class credit. The information for the study session is as follows.\n",
    "- The session is a total of 2 hours and 45 minutes long.\n",
    "- Louis has 3 assignments to complete.\n",
    "- The teacher says it is okay to collaborate with other students for any assignment.\n",
    "- Louis is going to the library for the study session.\n",
    "\n",
    "**Define variables for each of the above pieces of information, comment what variable type each should be, and print each value to the screen.**"
   ]
  },
  {
   "cell_type": "code",
   "execution_count": null,
   "metadata": {},
   "outputs": [],
   "source": []
  },
  {
   "cell_type": "markdown",
   "metadata": {},
   "source": [
    "## §1.3 Arithmetic Operators\n",
    "Next we'll learn about arithmetic operators in Python. Arithmetic operators are used to perform mathematical operations on variables and values. There are multiple arithmetic operators in Python, but we will only focus on seven of them in this course: \n",
    "- `+` addition\n",
    "- `-` subtraction\n",
    "- `*` multiplication\n",
    "- `/` division\n",
    "- `**` exponentiation\n",
    "- `//` floor division\n",
    "- `%` modulus"
   ]
  },
  {
   "cell_type": "markdown",
   "metadata": {},
   "source": [
    "Addition, subtraction, multiplication, division and exponentiation are all pretty straightforward. Floor division and modulus are a little more complicated, so we'll go over them in more detail below.\n",
    "\n",
    "Keep in mind that we use order of operations in Python. For example, the expression `2 + 3 * 4` is evaluated as `2 + (3 * 4)`, which equals 14. If we want to change the order of operations, we can use parentheses. For example, the expression `(2 + 3) * 4` is evaluated as `(2 + 3) * 4`, which equals 20."
   ]
  },
  {
   "cell_type": "code",
   "execution_count": null,
   "metadata": {},
   "outputs": [],
   "source": [
    "# Isaac and Jazmine each completed 6 assignments. How many assignments did they complete in total?\n",
    "isaac_assignments = 6\n",
    "jazmine_assignments = 6\n",
    "total_assignments = isaac_assignments + jazmine_assignments\n",
    "print(total_assignments)\n",
    "\n",
    "# Takis earned $30.54 in sales but needed to spend $15.76 on supplies. How much money did Takis make?\n",
    "sales = 30.54\n",
    "expenses = 15.76\n",
    "profit = sales - expenses\n",
    "print(profit)\n",
    "\n",
    "# Lawson has 3-and-a-half hours of study time each day of the week, except for Friday, Saturday, and Sunday. How many hours of weekly study time does Lawson have in total?\n",
    "daily_study_time = 3.5\n",
    "num_weekdays = 5\n",
    "weekly_study_time = daily_study_time * num_weekdays\n",
    "print(weekly_study_time)\n",
    "\n",
    "# Vincent has 10 Nintendo Switch cartridges and 5 friends that want to borrow them. How many games can each friend borrow?\n",
    "num_cartridges = 10\n",
    "num_friends = 5\n",
    "games_per_friend = num_cartridges / num_friends\n",
    "print(games_per_friend)"
   ]
  },
  {
   "cell_type": "markdown",
   "metadata": {},
   "source": [
    "### §1.3 - Exercise A - Nikko's 2048 Game\n",
    "Nikko is playing a game of 2048 is curious to know how many \"2\" tiles he needs to combine to reach the 2048 tile. How many \"2\" tiles does Nikko need to combine?\n",
    "\n",
    "**Define the variable using the arithmetic operators that we need to solve the problem and print the value to the screen.**"
   ]
  },
  {
   "cell_type": "code",
   "execution_count": null,
   "metadata": {},
   "outputs": [],
   "source": []
  },
  {
   "cell_type": "markdown",
   "metadata": {},
   "source": [
    "### §1.3.1 - Modulus\n",
    "Modulus is used to find the remainder of a division operation. For example, if we divide 5 by 2, the remainder is 1. We can use the modulus operator to find the remainder of this division operation by typing the following code into the cell below and then running the cell. The print statement is used to print the value of the variable `remainder` to the screen."
   ]
  },
  {
   "cell_type": "code",
   "execution_count": null,
   "metadata": {},
   "outputs": [],
   "source": [
    "remainder = 5 % 2\n",
    "print(remainder)"
   ]
  },
  {
   "cell_type": "markdown",
   "metadata": {},
   "source": [
    "When the result of a modulus operation is zero, we know that the first number is divisible by the second number. For example, if we divide 6 by 3, the remainder is 0. This is very useful when we want to check if a number is even or odd. For example, if we divide an even number by 2, the remainder is 0. If we divide an odd number by 2, the remainder is 1."
   ]
  },
  {
   "cell_type": "code",
   "execution_count": null,
   "metadata": {},
   "outputs": [],
   "source": [
    "# The result of 14 % 2 is 0. 14 is an even number.\n",
    "print(14 % 2)\n",
    "\n",
    "# The result of 5 % 2 is 1. 5 is an odd number.\n",
    "print(5 % 2)"
   ]
  },
  {
   "cell_type": "markdown",
   "metadata": {},
   "source": [
    "Some additional patterns of modulus include the following:"
   ]
  },
  {
   "cell_type": "code",
   "execution_count": null,
   "metadata": {},
   "outputs": [],
   "source": [
    "# If we divide a number by 10, the remainder will always be the last digit.\n",
    "print(12 % 10)\n",
    "print(23 % 10)\n",
    "print(45652 % 10)\n",
    "print(785829 % 10)\n",
    "\n",
    "# What about dividing by 100?\n",
    "\n",
    "# What about dividing by 1000?"
   ]
  },
  {
   "cell_type": "code",
   "execution_count": null,
   "metadata": {},
   "outputs": [],
   "source": [
    "# Any smaller number divided by a larger number will always have a remainder equal to the smaller number.\n",
    "print(5 % 67)\n",
    "print(23 % 789)\n",
    "print(45652 % 289032167894)"
   ]
  },
  {
   "cell_type": "code",
   "execution_count": null,
   "metadata": {},
   "outputs": [],
   "source": [
    "# The remainder of a x divided by y will always be less than y.\n",
    "print(5 % 7)\n",
    "print(6 % 7)\n",
    "print(7 % 7)\n",
    "print(8 % 7)\n",
    "print(9 % 7)"
   ]
  },
  {
   "cell_type": "markdown",
   "metadata": {},
   "source": [
    "### §1.3.2 - Integer (Floor) Division\n",
    "Integer or Floor Division is used to divide two numbers and removes any value after the decimal point. For example, if we divide 5 by 2, the result is 2.5. If we use integer division, the result is 2. We can use the integer division operator to perform integer division by typing the following code into the cell below and then running the cell. The print statement is used to print the value of the variable `result` to the screen."
   ]
  },
  {
   "cell_type": "code",
   "execution_count": 13,
   "metadata": {},
   "outputs": [
    {
     "name": "stdout",
     "output_type": "stream",
     "text": [
      "2.5\n",
      "2\n"
     ]
    }
   ],
   "source": [
    "reg_division = 5 / 2\n",
    "print(reg_division)\n",
    "\n",
    "floor_division = 5 // 2\n",
    "print(floor_division)"
   ]
  },
  {
   "cell_type": "markdown",
   "metadata": {},
   "source": [
    "NOTE: Floor divison does not round the value, it simply removes the decimal point and any value after it!"
   ]
  },
  {
   "cell_type": "code",
   "execution_count": 17,
   "metadata": {},
   "outputs": [
    {
     "name": "stdout",
     "output_type": "stream",
     "text": [
      "2.875\n",
      "2\n"
     ]
    }
   ],
   "source": [
    "# Regular division operation.\n",
    "print(23 / 8)\n",
    "\n",
    "# Floor division operation. The value is not rounded to the nearest integer, it is truncated.\n",
    "print(23 // 8)"
   ]
  },
  {
   "cell_type": "markdown",
   "metadata": {},
   "source": [
    "## §1.4 Conditional Statements\n",
    "Next we'll learn about conditional statements in Python. Conditional statements are used to perform different actions based on different conditions. There are multiple conditional statements in Python, the 6 most common ones are listed below:\n",
    "- `==` equal to\n",
    "- `!=` not equal to\n",
    "- `>` greater than\n",
    "- `<` less than\n",
    "- `>=` greater than or equal to\n",
    "- `<=` less than or equal to\n",
    "\n",
    "Conditional statements always return a boolean value of `True` or `False`. For example, if we want to check if 5 is greater than 2, we can type the following code into the cell below and then run the cell. The print statement is used to print the value of the variable `result` to the screen."
   ]
  },
  {
   "cell_type": "code",
   "execution_count": null,
   "metadata": {},
   "outputs": [],
   "source": [
    "result = 5 > 2\n",
    "print(result)"
   ]
  },
  {
   "cell_type": "markdown",
   "metadata": {},
   "source": [
    "Note, the `==` operator is used to check if two values are equal to each other. The `=` operator is used to assign a value to a variable."
   ]
  },
  {
   "cell_type": "code",
   "execution_count": null,
   "metadata": {},
   "outputs": [],
   "source": [
    "# We are assigning the result of 7 == 8 to the variable \"conditional_statement.\"\n",
    "# The single equals sign is the assignment operator, the double equals sign is the equality operator.\n",
    "conditional_statement = (7 == 8)\n",
    "\n",
    "print(conditional_statement)"
   ]
  },
  {
   "cell_type": "markdown",
   "metadata": {},
   "source": [
    "Note, the `<` and `>` mean **strictly** less than and **strictly** greater than. If we want to check if a value is less than or equal to another value, we can use the `<=` operator. If we want to check if a value is greater than or equal to another value, we can use the `>=` operator."
   ]
  },
  {
   "cell_type": "code",
   "execution_count": null,
   "metadata": {},
   "outputs": [],
   "source": [
    "# 5 is not less than 5.\n",
    "print(5 < 5)"
   ]
  },
  {
   "cell_type": "code",
   "execution_count": null,
   "metadata": {},
   "outputs": [],
   "source": [
    "# 5 is less than or equal to 5.\n",
    "print(5 <= 5)"
   ]
  },
  {
   "cell_type": "code",
   "execution_count": 19,
   "metadata": {},
   "outputs": [
    {
     "name": "stdout",
     "output_type": "stream",
     "text": [
      "True\n"
     ]
    }
   ],
   "source": [
    "# This number is still less than 5.\n",
    "print(4.999999999999 < 5)"
   ]
  },
  {
   "cell_type": "code",
   "execution_count": null,
   "metadata": {},
   "outputs": [],
   "source": [
    "# What is the result of 5 == 5.0?\n",
    "\n",
    "# What is the result of 7 != 8?\n",
    "\n",
    "# What is the result of 7 != 7?\n",
    "\n",
    "# What is the result of 8 + 10 >= 2 ** 4?\n",
    "\n",
    "# What is wrong with 8 + 10 = 2 ** 4 + 2?"
   ]
  },
  {
   "cell_type": "markdown",
   "metadata": {},
   "source": [
    "### §1.4.1 - Conjunction, Disjunction, and Negation - AKA: `and`, `or`, and `not`\n",
    "Conjunctions and disjunctions are used to combine multiple conditional statements. There are two conjunctions and two disjunctions in Python, the four most common ones are listed below:\n",
    "- `and` conjunction\n",
    "- `or` disjunction\n",
    "- `not` negation"
   ]
  },
  {
   "cell_type": "markdown",
   "metadata": {},
   "source": [
    "`and` is used to check if two conditions are both true. For example, if we want to check if 5 is greater than 2 and 5 is less than 10, we can type the following code into the cell below and then run the cell."
   ]
  },
  {
   "cell_type": "code",
   "execution_count": 21,
   "metadata": {},
   "outputs": [
    {
     "name": "stdout",
     "output_type": "stream",
     "text": [
      "True\n",
      "False\n"
     ]
    }
   ],
   "source": [
    "# This should be True.\n",
    "print(5 > 2 and 5 < 10)\n",
    "\n",
    "# This should be False.\n",
    "print(5 > 2 and 5 > 10)"
   ]
  },
  {
   "cell_type": "markdown",
   "metadata": {},
   "source": [
    "`or` is used to check if at least one of two conditions is true. For example, if we want to check if 5 is greater than 2 or 5 is less than 10, we can type the following code into the cell below and then run the cell."
   ]
  },
  {
   "cell_type": "code",
   "execution_count": 23,
   "metadata": {},
   "outputs": [
    {
     "name": "stdout",
     "output_type": "stream",
     "text": [
      "True\n",
      "True\n",
      "False\n"
     ]
    }
   ],
   "source": [
    "# This should be True.\n",
    "print(5 > 2 or 5 < 10) \n",
    "\n",
    "# This should also be True.\n",
    "print(5 > 2 or 5 > 10)\n",
    "\n",
    "# This should be False.\n",
    "print(5 < 2 or 5 > 10)"
   ]
  },
  {
   "cell_type": "markdown",
   "metadata": {},
   "source": [
    "`not` will simply return the opposite of a condition."
   ]
  },
  {
   "cell_type": "code",
   "execution_count": 24,
   "metadata": {},
   "outputs": [
    {
     "name": "stdout",
     "output_type": "stream",
     "text": [
      "True\n",
      "False\n"
     ]
    }
   ],
   "source": [
    "# This we know to be True.\n",
    "print(5 > 2)\n",
    "\n",
    "# `not` will reverse the boolean value. The opposite of True is False.\n",
    "print(not 5 > 2)"
   ]
  },
  {
   "cell_type": "markdown",
   "metadata": {},
   "source": [
    "### §1.4.1 - Exercise A - Truth Tables\n",
    "Truth tables are used to show the result of a conditional statement. For example, the truth table for the `and` conjunction is shown below.\n",
    "\n",
    "**Create truth tables for the `or` disjunction and the `and` conjunction, given two conditional statements-- `p` and `q`.**"
   ]
  },
  {
   "cell_type": "markdown",
   "metadata": {},
   "source": [
    "#### and table\n",
    "| p | q | p and q |\n",
    "|---|---|---------|\n",
    "| T | T |         |\n",
    "| T | F |         |\n",
    "| F | T |         |\n",
    "| F | F |         |\n",
    "\n",
    "#### or table\n",
    "| p | q | p or q |\n",
    "|---|---|--------|\n",
    "| T | T |        |\n",
    "| T | F |        |\n",
    "| F | T |        |\n",
    "| F | F |        |\n",
    "\n",
    "### What is the truth table for the `not` negation with either of these?\n",
    "\n",
    "### not (p or q) table\n",
    "| p | q | not (p or q) |\n",
    "|---|---|--------------|\n",
    "| T | T |              |\n",
    "| T | F |              |\n",
    "| F | T |              |\n",
    "| F | F |              |\n",
    "\n",
    "### not (p and q) table\n",
    "| p | q | not (p and q) |\n",
    "|---|---|---------------|\n",
    "| T | T |               |\n",
    "| T | F |               |\n",
    "| F | T |               |\n",
    "| F | F |               |\n",
    "\n"
   ]
  },
  {
   "cell_type": "markdown",
   "metadata": {},
   "source": [
    "## §1.5 `if`, `elif`, and `else` Statements\n",
    "If statements allow us to put our conditionals to work! If the condition evaluates to True then the code inside the if statement will run. If the condition evaluates to False then the code inside the if statement will not run."
   ]
  },
  {
   "cell_type": "code",
   "execution_count": 25,
   "metadata": {},
   "outputs": [
    {
     "name": "stdout",
     "output_type": "stream",
     "text": [
      "number is high\n"
     ]
    }
   ],
   "source": [
    "# Print out the statement \"number is high\" if the number is greater than 100.\n",
    "number = 101\n",
    "if number > 100:\n",
    "    print(\"number is high\")"
   ]
  },
  {
   "cell_type": "code",
   "execution_count": 26,
   "metadata": {},
   "outputs": [],
   "source": [
    "# Print out the statement \"number is high\" if the number is greater than 100.\n",
    "number = 99\n",
    "if number > 100:\n",
    "    print(\"number is high\")"
   ]
  },
  {
   "cell_type": "markdown",
   "metadata": {},
   "source": [
    "We don't have to settle for just one if statement though! If we want something to happen if the condition is True and something else to happen if the condition is False, we can use an else statement. The code inside the else statement will run if the condition evaluates to False. **Only one of the two code blocks will run.**"
   ]
  },
  {
   "cell_type": "code",
   "execution_count": 27,
   "metadata": {},
   "outputs": [
    {
     "name": "stdout",
     "output_type": "stream",
     "text": [
      "high balance\n"
     ]
    }
   ],
   "source": [
    "# Print \"high balance\" if the bank balance is greater than $400.00, otherwise print \"low balance\".\n",
    "bank_balance = 500.00\n",
    "if bank_balance > 400.00:\n",
    "    print(\"high balance\")\n",
    "else:\n",
    "    print(\"low balance\")"
   ]
  },
  {
   "cell_type": "code",
   "execution_count": 28,
   "metadata": {},
   "outputs": [
    {
     "name": "stdout",
     "output_type": "stream",
     "text": [
      "low balance\n"
     ]
    }
   ],
   "source": [
    "# Print \"high balance\" if the bank balance is greater than $400.00, otherwise print \"low balance\".\n",
    "bank_balance = 350.00\n",
    "if bank_balance > 400.00:\n",
    "    print(\"high balance\")\n",
    "else:\n",
    "    print(\"low balance\")"
   ]
  },
  {
   "cell_type": "markdown",
   "metadata": {},
   "source": [
    "Guess what--we don't have to settle for just two code blocks either! If we want to check multiple conditions, we can use an elif statement. The code inside the elif statement will run if the condition evaluates to True. You can have as many elif statements as you want after the initial if, but only one else statement. **Only one of the code blocks will run.**"
   ]
  },
  {
   "cell_type": "code",
   "execution_count": 31,
   "metadata": {},
   "outputs": [
    {
     "name": "stdout",
     "output_type": "stream",
     "text": [
      "high balance\n"
     ]
    }
   ],
   "source": [
    "# Print \"high balance\" if the bank balance is greater than $400.00, print \"low balance\" if the bank balance is less than $200.00, and print \"on target\" otherwise.\n",
    "bank_balance = 500.00\n",
    "if bank_balance > 400.00:\n",
    "    print(\"high balance\")\n",
    "elif bank_balance < 200.00:\n",
    "    print(\"low balance\")\n",
    "else:\n",
    "    print(\"on target\")"
   ]
  },
  {
   "cell_type": "code",
   "execution_count": 29,
   "metadata": {},
   "outputs": [
    {
     "name": "stdout",
     "output_type": "stream",
     "text": [
      "low balance\n"
     ]
    }
   ],
   "source": [
    "# Print \"high balance\" if the bank balance is greater than $400.00, print \"low balance\" if the bank balance is less than $200.00, and print \"on target\" otherwise.\n",
    "bank_balance = 150.00\n",
    "if bank_balance > 400.00:\n",
    "    print(\"high balance\")\n",
    "elif bank_balance < 200.00:\n",
    "    print(\"low balance\")\n",
    "else:\n",
    "    print(\"on target\")"
   ]
  },
  {
   "cell_type": "code",
   "execution_count": 30,
   "metadata": {},
   "outputs": [
    {
     "name": "stdout",
     "output_type": "stream",
     "text": [
      "on target\n"
     ]
    }
   ],
   "source": [
    "# Print \"high balance\" if the bank balance is greater than $400.00, print \"low balance\" if the bank balance is less than $200.00, and print \"on target\" otherwise.\n",
    "bank_balance = 300.00\n",
    "if bank_balance > 400.00:\n",
    "    print(\"high balance\")\n",
    "elif bank_balance < 200.00:\n",
    "    print(\"low balance\")\n",
    "else:\n",
    "    print(\"on target\")"
   ]
  },
  {
   "cell_type": "markdown",
   "metadata": {},
   "source": [
    "### §1.5 - Exercise A - Lola's Gradebook - CHALLENGE\n",
    "Lola is trying to get the letter grade for each student in the class. She has numerical grades for each student but needs to convert them to letter grades. The letter grades are as follows:\n",
    "- 90-100: A\n",
    "- 80-89: B\n",
    "- 70-79: C\n",
    "- 60-69: D\n",
    "- 0-59: F\n",
    "- Anything else: Invalid\n",
    "\n",
    "**Write an if statement that will print the letter grade for a student given their numerical grade.**"
   ]
  },
  {
   "cell_type": "code",
   "execution_count": null,
   "metadata": {},
   "outputs": [],
   "source": []
  }
 ],
 "metadata": {
  "kernelspec": {
   "display_name": "Python 3",
   "language": "python",
   "name": "python3"
  },
  "language_info": {
   "codemirror_mode": {
    "name": "ipython",
    "version": 3
   },
   "file_extension": ".py",
   "mimetype": "text/x-python",
   "name": "python",
   "nbconvert_exporter": "python",
   "pygments_lexer": "ipython3",
   "version": "3.11.4"
  },
  "orig_nbformat": 4
 },
 "nbformat": 4,
 "nbformat_minor": 2
}
